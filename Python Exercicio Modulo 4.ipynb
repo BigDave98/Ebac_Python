{
 "cells": [
  {
   "cell_type": "code",
   "execution_count": 114,
   "id": "3e904210",
   "metadata": {},
   "outputs": [
    {
     "name": "stdout",
     "output_type": "stream",
     "text": [
      "Overwriting carros.csv\n"
     ]
    }
   ],
   "source": [
    "%%writefile carros.csv\n",
    "id,valor_venda,valor_manutencao,portas,pessoas,porta_malas\n",
    "1,vhigh,med,2,2,small,\n",
    "2,med,vhigh,2,2,small,\n",
    "3,low,vhigh,2,2,small,\n",
    "4,low,high,2,2,small,\n",
    "5,low,high,2,2,small,\n",
    "6,low,high,4,4,big,\n",
    "7,low,high,4,4,big,\n",
    "8,low,med,2,2,small,\n",
    "9,low,med,2,2,small,\n",
    "10,low,med,2,2,small,\n",
    "11,low,med,4,4,big,\n",
    "12,low,low,2,2,small,\n",
    "13,low,low,4,4,small,\n",
    "14,low,low,4,4,med,\n",
    "\n"
   ]
  },
  {
   "cell_type": "code",
   "execution_count": 115,
   "id": "c2e134f8",
   "metadata": {},
   "outputs": [
    {
     "name": "stdout",
     "output_type": "stream",
     "text": [
      "Overwriting musica.txt\n"
     ]
    }
   ],
   "source": [
    "%%writefile musica.txt\n",
    "Roda Viva\n",
    "Chico Buarque\n",
    "\n",
    "Tem dias que a gente se sente\n",
    "Como quem partiu ou morreu\n",
    "A gente estancou de repente\n",
    "Ou foi o mundo então que cresceu\n",
    "A gente quer ter voz ativa\n",
    "No nosso destino mandar\n",
    "Mas eis que chega a roda viva\n",
    "E carrega o destino pra lá\n",
    "\n",
    "Roda mundo, roda-gigante\n",
    "Roda moinho, roda pião\n",
    "\n",
    "O tempo rodou num instante\n",
    "Nas voltas do meu coração\n",
    "A gente vai contra a corrente\n",
    "Até não poder resistir\n",
    "Na volta do barco é que sente\n",
    "O quanto deixou de cumprir\n",
    "Faz tempo que a gente cultiva\n",
    "A mais linda roseira que há\n",
    "Mas eis que chega a roda viva\n",
    "E carrega a roseira pra lá\n",
    "\n",
    "Roda mundo, roda-gigante\n",
    "Roda moinho, roda pião"
   ]
  },
  {
   "cell_type": "markdown",
   "id": "971654a3",
   "metadata": {},
   "source": [
    "## 1. Funções para arquivo csv\n",
    "\n",
    "Complete a função abaixo para extrair uma coluna do arquivo csv em uma lista. Os elementos devem ter o tipo de dado correto.\n",
    "\n",
    "1- Leia o arquivo com o comando 'with' utilizando o parametro 'nome_arquivo' \n",
    "\n",
    "2- Extraia a coluna do arquivo utilizando o parametro 'indice_coluna' \n",
    "\n",
    "3- Use a estrutura de decisão if/elif/else para fazer a conversão do tipo de dados utilizando o parametro 'tipo_dado'"
   ]
  },
  {
   "cell_type": "code",
   "execution_count": 903,
   "id": "378c5151",
   "metadata": {},
   "outputs": [],
   "source": [
    "def extrai_coluna_csv(file: str, coluna: int, tipo_dado:str):\n",
    "    conteudo = []\n",
    "    id = [] \n",
    "    valor = []\n",
    "    valor_manutencao = []\n",
    "    portas = []\n",
    "    pessoas = []\n",
    "    porta_malas = []\n",
    "    \n",
    "    with open(file = './carros.csv', mode = 'r', encoding='utf8') as nome_arquivo:\n",
    "        linha = nome_arquivo.readline()\n",
    "        \n",
    "        for linha in nome_arquivo:\n",
    "            conteudo.append(linha)\n",
    "        \n",
    "        for i in range(len(conteudo)-1):\n",
    "            x = conteudo[i].split(sep=',')\n",
    "            x = x[0:6]\n",
    "            \n",
    "            if coluna == 0:\n",
    "                id.append(x[0])\n",
    "                id = list(map(tipo_dado,id))\n",
    "            \n",
    "            elif coluna == 1:\n",
    "                valor.append(x[1])\n",
    "                valor = list(map(tipo_dado,valor))\n",
    "            \n",
    "            elif coluna == 2: \n",
    "                valor_manutencao.append(x[2])\n",
    "                valor_manutencao = list(map(tipo_dado,valor_manutencao))\n",
    "            \n",
    "            elif coluna ==3:\n",
    "                portas.append(x[3])\n",
    "                portas = list(map(tipo_dado,portas))\n",
    "            \n",
    "            elif coluna == 4:\n",
    "                pessoas.append(x[4])\n",
    "                pessoas = list(map(tipo_dado,pessoas))\n",
    "            \n",
    "            elif coluna == 5:\n",
    "                porta_malas.append(x[5])\n",
    "                porta_malas = list(map(tipo_dado,porta_malas))\n",
    "            \n",
    "            \n",
    "        colunas = id, valor, valor_manutencao, portas, pessoas, porta_malas\n",
    "    \n",
    "    return colunas[coluna]\n"
   ]
  },
  {
   "cell_type": "code",
   "execution_count": 910,
   "id": "359e07d0",
   "metadata": {},
   "outputs": [
    {
     "data": {
      "text/plain": [
       "[2, 2, 2, 2, 2, 4, 4, 2, 2, 2, 4, 2, 4, 4]"
      ]
     },
     "execution_count": 910,
     "metadata": {},
     "output_type": "execute_result"
    }
   ],
   "source": [
    "extrai_coluna_csv('./carros.csv', 3 , int)"
   ]
  },
  {
   "cell_type": "markdown",
   "id": "81fdb657",
   "metadata": {},
   "source": [
    "## 2\\. Funções para arquivo txt\n",
    "\n",
    "Complete a função abaixo para extrair uma as palavras de uma linha do arquivo txt em uma lista.\n",
    "\n",
    "1- Leia o arquivo com o comando 'with' utilizando o parametro 'nome_arquivo'\n",
    "\n",
    "2- Extraia a linha do arquivo utilizando o parametro 'numero_linha'\n",
    "\n",
    "3- Quebre a linha em palavras com o comando split, note que o separador é um espaço ' '\n"
   ]
  },
  {
   "cell_type": "code",
   "execution_count": 1238,
   "id": "cdf98a67",
   "metadata": {},
   "outputs": [],
   "source": [
    "def extrai_linha_txt(nome_arquivo: str, numero_linha: int):\n",
    "        linhas = []\n",
    "        linhas1 = []\n",
    "        with open(file = \"musica.txt\", mode = 'r', encoding = 'utf8') as nome_arquivo:\n",
    "\n",
    "\n",
    "            for linha in nome_arquivo:\n",
    "\n",
    "                linha = list(linha.split(\" \"))\n",
    "                linhas.append(linha)\n",
    "                if linhas != ['\\n']:\n",
    "                    for i in range(len(linhas)):\n",
    "                        for l in range(len(linhas[i])):\n",
    "                            x = linhas[i][l].split((\"\\n\"))\n",
    "                            x = x[0]\n",
    "                            linhas[i][l] = x\n",
    "        return linhas[numero_linha-1]                "
   ]
  },
  {
   "cell_type": "code",
   "execution_count": 1241,
   "id": "70a3a65a",
   "metadata": {},
   "outputs": [
    {
     "data": {
      "text/plain": [
       "['Na', 'volta', 'do', 'barco', 'é', 'que', 'sente']"
      ]
     },
     "execution_count": 1241,
     "metadata": {},
     "output_type": "execute_result"
    }
   ],
   "source": [
    "extrai_linha_txt(nome_arquivo='./musica.txt', numero_linha=20)"
   ]
  }
 ],
 "metadata": {
  "kernelspec": {
   "display_name": "Python 3",
   "language": "python",
   "name": "python3"
  },
  "language_info": {
   "codemirror_mode": {
    "name": "ipython",
    "version": 3
   },
   "file_extension": ".py",
   "mimetype": "text/x-python",
   "name": "python",
   "nbconvert_exporter": "python",
   "pygments_lexer": "ipython3",
   "version": "3.8.8"
  }
 },
 "nbformat": 4,
 "nbformat_minor": 5
}
