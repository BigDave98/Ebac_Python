{
 "cells": [
  {
   "cell_type": "code",
   "execution_count": 1,
   "id": "fa791e9d",
   "metadata": {},
   "outputs": [
    {
     "name": "stdout",
     "output_type": "stream",
     "text": [
      "Overwriting musica.txt\n"
     ]
    }
   ],
   "source": [
    "%%writefile musica.txt\n",
    "Roda Viva\n",
    "Chico Buarque\n",
    "Tem dias que a gente se sente\n",
    "Como quem partiu ou morreu\n",
    "A gente estancou de repente\n",
    "Ou foi o mundo então que cresceu\n",
    "A gente quer ter voz ativa\n",
    "No nosso destino mandar\n",
    "Mas eis que chega a roda viva\n",
    "E carrega o destino pra lá\n",
    "Roda mundo, roda-gigante\n",
    "Roda moinho, roda pião\n",
    "O tempo rodou num instante\n",
    "Nas voltas do meu coração\n",
    "A gente vai contra a corrente\n",
    "Até não poder resistir\n",
    "Na volta do barco é que sente\n",
    "O quanto deixou de cumprir\n",
    "Faz tempo que a gente cultiva\n",
    "A mais linda roseira que há\n",
    "Mas eis que chega a roda viva\n",
    "E carrega a roseira pra lá\n",
    "Roda mundo, roda-gigante\n",
    "Roda moinho, roda pião"
   ]
  },
  {
   "cell_type": "code",
   "execution_count": 91,
   "id": "61e0367e",
   "metadata": {},
   "outputs": [
    {
     "name": "stdout",
     "output_type": "stream",
     "text": [
      "Overwriting carros.csv\n"
     ]
    }
   ],
   "source": [
    "%%writefile carros.csv\n",
    "id,valor_venda,valor_manutencao,portas,pessoas,porta_malas\n",
    "1,vhigh,med,2,2,small\n",
    "2,med,vhigh,2,2,small\n",
    "3,low,vhigh,2,2,small\n",
    "3,low,vhigh,2,2,small\n",
    "4,low,high,2,2,small\n",
    "5,low,high,2,2,small\n",
    "6,low,high,4,4,big\n",
    "7,low,high,4,4,big\n",
    "8,low,med,2,2,small\n",
    "9,low,med,2,2,small\n",
    "10,low,med,2,2,small\n",
    "11,low,med,4,4,big\n",
    "12,low,low,2,2,small\n",
    "13,low,low,4,4,small\n",
    "14,low,low,4,4,med"
   ]
  },
  {
   "cell_type": "markdown",
   "id": "1e8a131a",
   "metadata": {},
   "source": [
    "#Criar classe que lê os arquivos e contem os metodos \"extrair conteudo\" e \"extrair linha\""
   ]
  },
  {
   "cell_type": "code",
   "execution_count": 244,
   "id": "b68bf750",
   "metadata": {},
   "outputs": [],
   "source": [
    "class ArquivoTexto(object):\n",
    "    \n",
    "    def __init__(self, arquivo: str):\n",
    "        self.arquivo = arquivo\n",
    "        self.conteudo = self._extrair_conteudo\n",
    "        \n",
    "    def _extrair_conteudo(self):\n",
    "        conteudo = None\n",
    "        with open(file = self.arquivo, mode = 'r', encoding = 'utf8') as arquivo:\n",
    "            conteudo = arquivo.readlines()\n",
    "        return conteudo    \n",
    "    \n",
    "    def _extrair_linha(self, numero_linha: int):\n",
    "        linhas = list()\n",
    "        for linha in self.conteudo():\n",
    "            linhas.append(linha[:-1])\n",
    "        return linhas[numero_linha]"
   ]
  },
  {
   "cell_type": "code",
   "execution_count": 245,
   "id": "818c16af",
   "metadata": {},
   "outputs": [
    {
     "name": "stdout",
     "output_type": "stream",
     "text": [
      "['Roda Viva\\n', 'Chico Buarque\\n', 'Tem dias que a gente se sente\\n', 'Como quem partiu ou morreu\\n', 'A gente estancou de repente\\n', 'Ou foi o mundo então que cresceu\\n', 'A gente quer ter voz ativa\\n', 'No nosso destino mandar\\n', 'Mas eis que chega a roda viva\\n', 'E carrega o destino pra lá\\n', 'Roda mundo, roda-gigante\\n', 'Roda moinho, roda pião\\n', 'O tempo rodou num instante\\n', 'Nas voltas do meu coração\\n', 'A gente vai contra a corrente\\n', 'Até não poder resistir\\n', 'Na volta do barco é que sente\\n', 'O quanto deixou de cumprir\\n', 'Faz tempo que a gente cultiva\\n', 'A mais linda roseira que há\\n', 'Mas eis que chega a roda viva\\n', 'E carrega a roseira pra lá\\n', 'Roda mundo, roda-gigante\\n', 'Roda moinho, roda pião\\n']\n"
     ]
    }
   ],
   "source": [
    "arquivo_texto = ArquivoTexto(arquivo='musica.txt')\n",
    "print(arquivo_texto.conteudo())"
   ]
  },
  {
   "cell_type": "code",
   "execution_count": 246,
   "id": "43558722",
   "metadata": {},
   "outputs": [
    {
     "data": {
      "text/plain": [
       "'Chico Buarque'"
      ]
     },
     "execution_count": 246,
     "metadata": {},
     "output_type": "execute_result"
    }
   ],
   "source": [
    "numero_linha = 1\n",
    "linha = arquivo_texto._extrair_linha(numero_linha=numero_linha)\n",
    "linha"
   ]
  },
  {
   "cell_type": "markdown",
   "id": "2d4f741d",
   "metadata": {},
   "source": [
    "Criar classe que herde os cobceitos da classe criada anteriormente e crie um novo metodo chamado \"extrair coluna\""
   ]
  },
  {
   "cell_type": "code",
   "execution_count": 247,
   "id": "027cdde8",
   "metadata": {},
   "outputs": [],
   "source": [
    "class ArquivoCSV(ArquivoTexto):\n",
    "    \n",
    "    def __init__(self, arquivo: ArquivoTexto):\n",
    "        super().__init__(arquivo = arquivo) \n",
    "        self.colunas = list()\n",
    "        \n",
    "    def _extrair_nome_colunas(self):\n",
    "        return self.coluna[1]\n",
    "    \n",
    "    def _extrair_coluna(self, indice_coluna: str):\n",
    "        coluna = list()\n",
    "        for linha in self.conteudo():\n",
    "            conteudo_linha = linha.strip().split(sep=',')\n",
    "            coluna.append(conteudo_linha[indice_coluna])\n",
    "        coluna.pop(0)\n",
    "        return coluna\n",
    " "
   ]
  },
  {
   "cell_type": "code",
   "execution_count": 248,
   "id": "6a0b9728",
   "metadata": {},
   "outputs": [
    {
     "name": "stdout",
     "output_type": "stream",
     "text": [
      "id,valor_venda,valor_manutencao,portas,pessoas,porta_malas\n"
     ]
    }
   ],
   "source": [
    "arquivo_csv = ArquivoCSV(arquivo='carros.csv')\n",
    "numero_linha = 0\n",
    "print(arquivo_csv._extrair_linha(numero_linha=numero_linha))"
   ]
  },
  {
   "cell_type": "code",
   "execution_count": 249,
   "id": "f7d9d4d5",
   "metadata": {},
   "outputs": [
    {
     "data": {
      "text/plain": [
       "['id,valor_venda,valor_manutencao,portas,pessoas,porta_malas\\n',\n",
       " '1,vhigh,med,2,2,small\\n',\n",
       " '2,med,vhigh,2,2,small\\n',\n",
       " '3,low,vhigh,2,2,small\\n',\n",
       " '3,low,vhigh,2,2,small\\n',\n",
       " '4,low,high,2,2,small\\n',\n",
       " '5,low,high,2,2,small\\n',\n",
       " '6,low,high,4,4,big\\n',\n",
       " '7,low,high,4,4,big\\n',\n",
       " '8,low,med,2,2,small\\n',\n",
       " '9,low,med,2,2,small\\n',\n",
       " '10,low,med,2,2,small\\n',\n",
       " '11,low,med,4,4,big\\n',\n",
       " '12,low,low,2,2,small\\n',\n",
       " '13,low,low,4,4,small\\n',\n",
       " '14,low,low,4,4,med\\n']"
      ]
     },
     "execution_count": 249,
     "metadata": {},
     "output_type": "execute_result"
    }
   ],
   "source": [
    "arquivo_csv.conteudo()"
   ]
  },
  {
   "cell_type": "code",
   "execution_count": 250,
   "id": "ae7017e3",
   "metadata": {},
   "outputs": [
    {
     "name": "stdout",
     "output_type": "stream",
     "text": [
      "['med', 'vhigh', 'vhigh', 'vhigh', 'high', 'high', 'high', 'high', 'med', 'med', 'med', 'med', 'low', 'low', 'low']\n"
     ]
    }
   ],
   "source": [
    "indice_coluna = 2\n",
    "print(arquivo_csv._extrair_coluna(indice_coluna=indice_coluna))"
   ]
  },
  {
   "cell_type": "markdown",
   "id": "191857d3",
   "metadata": {},
   "source": [
    "Bonus: Criar uma classe com metodo que retorna valor especifico basaeado no indice da linha e da coluna."
   ]
  },
  {
   "cell_type": "code",
   "execution_count": 256,
   "id": "4918ff9f",
   "metadata": {},
   "outputs": [],
   "source": [
    "class ArquivoCSV2(ArquivoTexto):\n",
    "    \n",
    "    def __init__(self, arquivo: ArquivoTexto):\n",
    "        super().__init__(arquivo = arquivo) \n",
    "        \n",
    "    def extrair_coluna_da_linha(self, numero_linha: int, indice_coluna: int):\n",
    "        linha = self._extrair_linha(numero_linha)\n",
    "        linha = linha.strip().split(sep=',')\n",
    "        return linha[indice_coluna]\n",
    "    \n",
    "    "
   ]
  },
  {
   "cell_type": "code",
   "execution_count": 257,
   "id": "12e19d42",
   "metadata": {},
   "outputs": [
    {
     "name": "stdout",
     "output_type": "stream",
     "text": [
      "med\n"
     ]
    }
   ],
   "source": [
    "arquivo_csv2 = ArquivoCSV2(arquivo='carros.csv')\n",
    "\n",
    "numero_linha = 10\n",
    "indice_coluna = 2\n",
    "print(arquivo_csv2.extrair_coluna_da_linha(numero_linha=numero_linha, indice_coluna=indice_coluna))"
   ]
  },
  {
   "cell_type": "code",
   "execution_count": null,
   "id": "87d93ead",
   "metadata": {},
   "outputs": [],
   "source": []
  }
 ],
 "metadata": {
  "kernelspec": {
   "display_name": "Python 3 (ipykernel)",
   "language": "python",
   "name": "python3"
  },
  "language_info": {
   "codemirror_mode": {
    "name": "ipython",
    "version": 3
   },
   "file_extension": ".py",
   "mimetype": "text/x-python",
   "name": "python",
   "nbconvert_exporter": "python",
   "pygments_lexer": "ipython3",
   "version": "3.9.7"
  }
 },
 "nbformat": 4,
 "nbformat_minor": 5
}
