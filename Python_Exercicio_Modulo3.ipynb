{
 "cells": [
  {
   "cell_type": "markdown",
   "id": "d4ace1b7",
   "metadata": {},
   "source": [
    "# 1. Dados de interação de usuários com propagandas online\n",
    "Na lista propaganda_online abaixo, estão presente os dados de usuários que acessaram um determinado site e se o mesmo clicou em uma propaganda.\n"
   ]
  },
  {
   "cell_type": "code",
   "execution_count": 174,
   "id": "e29a34e9",
   "metadata": {},
   "outputs": [],
   "source": [
    "propaganda_online = [\n",
    "  {'tempo_gasto_site': 68.95, 'idade': 35, 'renda_area': 61833.90, 'tempo_gasto_internet': 256.09, 'cidade': 'Wrightburgh', 'pais': 'Tunisia', 'clicou_no_ad': 0},\n",
    "  {'tempo_gasto_site': 80.23, 'idade': 31, 'renda_area': 68441.85, 'tempo_gasto_internet': 193.77, 'cidade': 'West Jodi', 'pais': 'Nauru', 'clicou_no_ad': 0},\n",
    "  {'tempo_gasto_site': 69.47, 'idade': 26, 'renda_area': 59785.94, 'tempo_gasto_internet': 236.50, 'cidade': 'Davidton', 'pais': 'San Marino', 'clicou_no_ad': 0},\n",
    "  {'tempo_gasto_site': 68.37, 'idade': 35, 'renda_area': 73889.99, 'tempo_gasto_internet': 225.58, 'cidade': 'South Manuel', 'pais': 'Iceland', 'clicou_no_ad': 0},\n",
    "  {'tempo_gasto_site': 88.91, 'idade': 33, 'renda_area': 53852.85, 'tempo_gasto_internet': 208.36, 'cidade': 'Brandonstad', 'pais': 'Myanmar', 'clicou_no_ad': 0},\n",
    "  {'tempo_gasto_site': None, 'idade': 48, 'renda_area': 24593.33, 'tempo_gasto_internet': 131.76, 'cidade': 'Port Jefferybury', 'pais': 'Australia', 'clicou_no_ad': 1},\n",
    "  {'tempo_gasto_site': 74.53, 'idade': 30, 'renda_area': 68862.00, 'tempo_gasto_internet': 221.51, 'cidade': 'West Colin', 'pais': 'Grenada'},\n",
    "  {'tempo_gasto_site': 69.88, 'idade': 20, 'renda_area': 55642.32, 'tempo_gasto_internet': 183.82, 'cidade': 'Ramirezton', 'pais': 'Ghana', 'clicou_no_ad': 0}\n",
    "]"
   ]
  },
  {
   "cell_type": "code",
   "execution_count": 175,
   "id": "51327a5d",
   "metadata": {},
   "outputs": [
    {
     "name": "stdout",
     "output_type": "stream",
     "text": [
      "['Tunisia', 'Nauru', 'Iceland', 'Myanmar', 'Australia']\n"
     ]
    }
   ],
   "source": [
    "#1.1. Crie uma lista chamada paises com o pais dos usuários com mais de 30 anos.\n",
    "paises=[]\n",
    "for dado_de_usuario in propaganda_online:\n",
    "    for x, y in dado_de_usuario.items():\n",
    "\n",
    "        if x == 'idade' and y > 30:\n",
    "            for x, y in dado_de_usuario.items():\n",
    "                if x == 'pais':\n",
    "                    paises.append(y)\n",
    "print(paises)\n",
    "#['Tunisia', 'Nauru', 'Iceland', 'Myanmar', 'Australia']           \n",
    "        \n",
    "        "
   ]
  },
  {
   "cell_type": "code",
   "execution_count": 176,
   "id": "5b800ad5",
   "metadata": {},
   "outputs": [
    {
     "name": "stdout",
     "output_type": "stream",
     "text": [
      "[61833.9, 68441.85, 59785.94, 73889.99, 53852.85, 55642.32]\n"
     ]
    }
   ],
   "source": [
    "#1.2. Crie uma lista chamada leads com a renda dos usuários que clicaram na propaganda.\n",
    "leads=[]\n",
    "for dado_de_usuario in propaganda_online:\n",
    "    for x, y in dado_de_usuario.items():\n",
    "        if x == 'clicou_no_ad' and y == 0:\n",
    "            for x, y in dado_de_usuario.items():\n",
    "                if x == 'renda_area':\n",
    "                    leads.append(y)\n",
    "print(leads)                    \n",
    "                    \n",
    "#[61833.9, 68441.85, 59785.94, 73889.99, 53852.85, 55642.32]           \n",
    "            \n"
   ]
  },
  {
   "cell_type": "code",
   "execution_count": 255,
   "id": "f534f722",
   "metadata": {},
   "outputs": [
    {
     "name": "stdout",
     "output_type": "stream",
     "text": [
      "['West Jodi', 'Brandonstad', 'West Colin']\n"
     ]
    }
   ],
   "source": [
    "#1.3. Crie uma lista chamada cidades com a cidade dos usuários que passaram mais de 70 segundos no site.\n",
    "cidades=[]\n",
    "for dado_de_usuario in propaganda_online:\n",
    "    for x, y in dado_de_usuario.items():\n",
    "        if x == 'tempo_gasto_site' and  y != None:\n",
    "            if y > 70:\n",
    "                for x, y in dado_de_usuario.items():\n",
    "                    if x == 'cidade':\n",
    "                        cidades.append(y)\n",
    "print(cidades)                    \n",
    "#['West Jodi', 'Brandonstad', 'West Colin']                \n",
    "                \n",
    "                \n",
    "            \n",
    "            "
   ]
  },
  {
   "cell_type": "code",
   "execution_count": null,
   "id": "935d937a",
   "metadata": {},
   "outputs": [],
   "source": []
  },
  {
   "cell_type": "code",
   "execution_count": null,
   "id": "a3739453",
   "metadata": {},
   "outputs": [],
   "source": []
  }
 ],
 "metadata": {
  "kernelspec": {
   "display_name": "Python 3",
   "language": "python",
   "name": "python3"
  },
  "language_info": {
   "codemirror_mode": {
    "name": "ipython",
    "version": 3
   },
   "file_extension": ".py",
   "mimetype": "text/x-python",
   "name": "python",
   "nbconvert_exporter": "python",
   "pygments_lexer": "ipython3",
   "version": "3.8.8"
  }
 },
 "nbformat": 4,
 "nbformat_minor": 5
}
