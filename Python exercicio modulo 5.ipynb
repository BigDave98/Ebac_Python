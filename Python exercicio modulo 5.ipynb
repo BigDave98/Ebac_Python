{
 "cells": [
  {
   "cell_type": "markdown",
   "id": "be464d63",
   "metadata": {},
   "source": [
    "# 0- Preparando ambiente"
   ]
  },
  {
   "cell_type": "code",
   "execution_count": 169,
   "id": "99d09118",
   "metadata": {},
   "outputs": [
    {
     "name": "stdout",
     "output_type": "stream",
     "text": [
      "{'id_vendedor': 'id_vendedor', 'valor_emprestimos': 'valor_emprestimos', 'quantidade_emprestimos': 'quantidade_emprestimos', 'data': 'data'}\n",
      "{'id_vendedor': '104271', 'valor_emprestimos': '448.0', 'quantidade_emprestimos': '1', 'data': '20161208'}\n",
      "{'id_vendedor': '21476', 'valor_emprestimos': '826.7', 'quantidade_emprestimos': '3', 'data': '20161208'}\n",
      "{'id_vendedor': '87440', 'valor_emprestimos': '313.6', 'quantidade_emprestimos': '3', 'data': '20161208'}\n",
      "{'id_vendedor': '15980', 'valor_emprestimos': '-8008.0', 'quantidade_emprestimos': '6', 'data': '20161208'}\n",
      "{'id_vendedor': '215906', 'valor_emprestimos': '2212.0', 'quantidade_emprestimos': '5', 'data': '20161208'}\n",
      "{'id_vendedor': '33696', 'valor_emprestimos': '2771.3', 'quantidade_emprestimos': '2', 'data': '20161208'}\n",
      "{'id_vendedor': '33893', 'valor_emprestimos': '2240.0', 'quantidade_emprestimos': '3', 'data': '20161208'}\n",
      "{'id_vendedor': '214946', 'valor_emprestimos': '-4151.0', 'quantidade_emprestimos': '18', 'data': '20161208'}\n",
      "{'id_vendedor': '123974', 'valor_emprestimos': '2021.95', 'quantidade_emprestimos': '2', 'data': '20161208'}\n",
      "{'id_vendedor': '225870', 'valor_emprestimos': '4039.0', 'quantidade_emprestimos': '2', 'data': '20161208'}\n"
     ]
    }
   ],
   "source": [
    "emprestimos = []\n",
    "with open(file='C:/Users/Davi Ruas/Documents/Ebac/Python/Modulo 5/Exercicio/credito.csv', mode='r', encoding='utf8') as fp:\n",
    "  fp.readline() # cabeçalho\n",
    "  linha = fp.readline()\n",
    "  while linha:\n",
    "    linha_emprestimo = {}\n",
    "    linha_elementos = linha.strip().split(sep=',')\n",
    "    linha_emprestimo['id_vendedor'] = linha_elementos[0]\n",
    "    linha_emprestimo['valor_emprestimos'] = linha_elementos[1]\n",
    "    linha_emprestimo['quantidade_emprestimos'] = linha_elementos[2]\n",
    "    linha_emprestimo['data'] = linha_elementos[3]\n",
    "    emprestimos.append(linha_emprestimo)\n",
    "    linha = fp.readline()\n",
    "for emprestimo in emprestimos:\n",
    "    print(emprestimo)    \n"
   ]
  },
  {
   "cell_type": "markdown",
   "id": "34e4be2d",
   "metadata": {},
   "source": [
    "# 1 - FUNÇÃO MAP:\n",
    "Aplique a função map na lista de `emprestimos` para extrair os valores da chave `valor_emprestimos` na lista \n",
    "`valor_emprestimos_lista`. Faça também a conversão de `str` para `float`."
   ]
  },
  {
   "cell_type": "code",
   "execution_count": 337,
   "id": "71794654",
   "metadata": {},
   "outputs": [
    {
     "name": "stdout",
     "output_type": "stream",
     "text": [
      "[448.0, 826.7, 313.6, -8008.0, 2212.0, 2771.3, 2240.0, -4151.0, 2021.95, 4039.0]\n"
     ]
    }
   ],
   "source": [
    "valores_emprestimos = []\n",
    "\n",
    "for i in range(1, len(emprestimos)):\n",
    "    valores_emprestimos.append(emprestimos[i]['valor_emprestimos'])\n",
    "    \n",
    "valores_emprestimos = list(map(float, valores_emprestimos))\n",
    "\n",
    "print(valores_emprestimos)\n",
    "        "
   ]
  },
  {
   "cell_type": "markdown",
   "id": "57cb037d",
   "metadata": {},
   "source": [
    "# 2 - FUNÇÃO FILTER:\n",
    "Aplique a função filter na lista de `valor_emprestimos_lista` para filtrar apenas os valores maiores que zero \n",
    "(os valores negativas são erros na base de dados). Salve os valores na lista `valor_emprestimos_lista_filtrada`.\n",
    "    "
   ]
  },
  {
   "cell_type": "code",
   "execution_count": 341,
   "id": "34f1c295",
   "metadata": {},
   "outputs": [
    {
     "data": {
      "text/plain": [
       "[448.0, 826.7, 313.6, 2212.0, 2771.3, 2240.0, 2021.95, 4039.0]"
      ]
     },
     "execution_count": 341,
     "metadata": {},
     "output_type": "execute_result"
    }
   ],
   "source": [
    "valor_emprestimos_lista_filtrada = []\n",
    "\n",
    "valor_emprestimos_lista_filtrada = list(filter(lambda positivos: positivos > 0, valores_emprestimos))\n",
    "\n",
    "valor_emprestimos_lista_filtrada \n",
    "    \n"
   ]
  },
  {
   "cell_type": "markdown",
   "id": "2b757730",
   "metadata": {},
   "source": [
    "# 3 - FUNÇÃO REDUCE\n",
    "Utilize a função reduce para calcular a soma, media e o desvio padrao dos dados"
   ]
  },
  {
   "cell_type": "code",
   "execution_count": 360,
   "id": "d9e229e0",
   "metadata": {},
   "outputs": [
    {
     "name": "stdout",
     "output_type": "stream",
     "text": [
      " A soma dos valores é: 14872.550000000001 \n",
      " A media dos valores é: 1859.0687500000001 \n",
      " E por fim o desvio padrão é: 1189.8444963884724\n"
     ]
    }
   ],
   "source": [
    "from functools import reduce\n",
    "import numpy as np\n",
    "\n",
    "soma = reduce(lambda x, y: x + y, valor_emprestimos_lista_filtrada)\n",
    "\n",
    "media = soma/len(valor_emprestimos_lista_filtrada)\n",
    "\n",
    "desvio_padrao =  np.std(valor_emprestimos_lista_filtrada)\n",
    "\n",
    "print(f' A soma dos valores é: {soma}','\\n',\n",
    "    f'A media dos valores é: {media}', '\\n',\n",
    "    f'E por fim o desvio padrão é: {desvio_padrao}')"
   ]
  },
  {
   "cell_type": "markdown",
   "id": "01919e67",
   "metadata": {},
   "source": [
    "# DESAFIOS\n",
    "As questões abaixo são desafios propostos pelo porfessor\n",
    "\n",
    "1- Usar a função 'map' para fazer a subtração de cada elemento de 'valor_emprestimos_lista_filtrada' pela média dos valores e elevar essa diferença ao quadrado."
   ]
  },
  {
   "cell_type": "code",
   "execution_count": 376,
   "id": "b3c93eae",
   "metadata": {},
   "outputs": [
    {
     "data": {
      "text/plain": [
       "[1991115.0172265628,\n",
       " 1065785.2359765626,\n",
       " 2388473.6572265625,\n",
       " 124560.46722656241,\n",
       " 832165.8534765625,\n",
       " 145108.6172265624,\n",
       " 26530.30160156247,\n",
       " 4752100.254726561]"
      ]
     },
     "execution_count": 376,
     "metadata": {},
     "output_type": "execute_result"
    }
   ],
   "source": [
    "subtracao_quadrado = list(map(lambda valor_emprestimos_lista_filtrada: (valor_emprestimos_lista_filtrada - media)**2, valor_emprestimos_lista_filtrada))\n",
    "subtracao_quadrado "
   ]
  },
  {
   "cell_type": "markdown",
   "id": "f4c8940c",
   "metadata": {},
   "source": [
    "2- Usar a função 'reduce' para somar os valores obtidos no passo 1"
   ]
  },
  {
   "cell_type": "code",
   "execution_count": 378,
   "id": "44189171",
   "metadata": {},
   "outputs": [
    {
     "data": {
      "text/plain": [
       "11325839.404687498"
      ]
     },
     "execution_count": 378,
     "metadata": {},
     "output_type": "execute_result"
    }
   ],
   "source": [
    "soma_desafio = reduce(lambda x, y: x+y, subtracao_quadrado)\n",
    "soma_desafio"
   ]
  },
  {
   "cell_type": "markdown",
   "id": "3e7fab00",
   "metadata": {},
   "source": [
    "3- Converter os valores obtidos no passo 2 para o tipo 'float'"
   ]
  },
  {
   "cell_type": "code",
   "execution_count": 381,
   "id": "54d41fb3",
   "metadata": {},
   "outputs": [
    {
     "data": {
      "text/plain": [
       "float"
      ]
     },
     "execution_count": 381,
     "metadata": {},
     "output_type": "execute_result"
    }
   ],
   "source": [
    "type(soma_desafio)"
   ]
  },
  {
   "cell_type": "markdown",
   "id": "1c715f20",
   "metadata": {},
   "source": [
    "4- Dividir o resultado do passo 3 por 'len(valor_emprestimos_lista_filtrada) - 1'"
   ]
  },
  {
   "cell_type": "code",
   "execution_count": 385,
   "id": "743fef76",
   "metadata": {},
   "outputs": [
    {
     "data": {
      "text/plain": [
       "1617977.0578124996"
      ]
     },
     "execution_count": 385,
     "metadata": {},
     "output_type": "execute_result"
    }
   ],
   "source": [
    "divisao = soma_desafio/(len(valor_emprestimos_lista_filtrada)-1)\n",
    "divisao"
   ]
  },
  {
   "cell_type": "markdown",
   "id": "1a73f399",
   "metadata": {},
   "source": [
    "5- Ao final, vai extrair a raiz quadrada do resultado de todo esse processo. "
   ]
  },
  {
   "cell_type": "code",
   "execution_count": 386,
   "id": "cea4f977",
   "metadata": {},
   "outputs": [
    {
     "data": {
      "text/plain": [
       "1271.9972711497849"
      ]
     },
     "execution_count": 386,
     "metadata": {},
     "output_type": "execute_result"
    }
   ],
   "source": [
    "from math import sqrt \n",
    "sqrt(divisao)"
   ]
  }
 ],
 "metadata": {
  "kernelspec": {
   "display_name": "Python 3 (ipykernel)",
   "language": "python",
   "name": "python3"
  },
  "language_info": {
   "codemirror_mode": {
    "name": "ipython",
    "version": 3
   },
   "file_extension": ".py",
   "mimetype": "text/x-python",
   "name": "python",
   "nbconvert_exporter": "python",
   "pygments_lexer": "ipython3",
   "version": "3.9.7"
  }
 },
 "nbformat": 4,
 "nbformat_minor": 5
}
